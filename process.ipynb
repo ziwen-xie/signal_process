{
 "cells": [
  {
   "cell_type": "code",
   "execution_count": 1,
   "id": "f9cc24ab",
   "metadata": {},
   "outputs": [],
   "source": [
    "import scipy.io\n",
    "import os\n",
    "import numpy as np\n",
    "import pandas as pd\n",
    "import re\n",
    "import matplotlib.pyplot as plt"
   ]
  },
  {
   "cell_type": "code",
   "execution_count": 147,
   "id": "7b0e4637",
   "metadata": {},
   "outputs": [],
   "source": [
    "def load_data(subject):\n",
    "    '''\n",
    "    This function returns training and testing EEG data, and training labels.\n",
    "    Parameter: Subject number\n",
    "    Return:  \n",
    "        - X_train: training set EEG data\n",
    "        - X_test: testing set EEG data\n",
    "        - y_train: training set labels\n",
    "    '''\n",
    "    seperator = ''  # specify the seperating term when joining strings\n",
    "    # load train, test, label .mat files\n",
    "    X_train = scipy.io.loadmat(seperator.join(['../preprocessed_data/bandpass_filter_only/', subject, '_train.mat']));\n",
    "    X_test = scipy.io.loadmat(seperator.join(['../preprocessed_data/bandpass_filter_only/', subject, '_test.mat']));\n",
    "    y_train = scipy.io.loadmat(seperator.join(['../preprocessed_data/bandpass_filter_only/', subject, '_label.mat']));\n",
    "    # The loaded files are in the data structure numpy.void, findind the array in void that contains EEG data\n",
    "    X_train = X_train['EEG'][0][0][15]\n",
    "    X_test = X_test['EEG'][0][0][15]\n",
    "    y_train = y_train['train_label']\n",
    "    \n",
    "    return X_train, X_test, y_train"
   ]
  },
  {
   "cell_type": "code",
   "execution_count": 148,
   "id": "9d51deb5",
   "metadata": {},
   "outputs": [],
   "source": [
    "subject1_train, subject1_test, subject1_label = load_data('Subject_1')"
   ]
  },
  {
   "cell_type": "code",
   "execution_count": 149,
   "id": "903cc20d",
   "metadata": {},
   "outputs": [
    {
     "data": {
      "text/plain": [
       "((60, 1200, 74), (60, 1200, 18), (74, 1))"
      ]
     },
     "execution_count": 149,
     "metadata": {},
     "output_type": "execute_result"
    }
   ],
   "source": [
    "subject1_train.shape, subject1_test.shape, subject1_label.shape"
   ]
  },
  {
   "cell_type": "code",
   "execution_count": 150,
   "id": "3f805fea",
   "metadata": {},
   "outputs": [],
   "source": [
    "subject4_train, subject4_test, subject4_label = load_data('Subject_4')"
   ]
  },
  {
   "cell_type": "code",
   "execution_count": 151,
   "id": "859a4ff0",
   "metadata": {},
   "outputs": [
    {
     "data": {
      "text/plain": [
       "((60, 1200, 72), (60, 1200, 18), (72, 1))"
      ]
     },
     "execution_count": 151,
     "metadata": {},
     "output_type": "execute_result"
    }
   ],
   "source": [
    "subject4_train.shape, subject4_test.shape, subject4_label.shape"
   ]
  },
  {
   "cell_type": "code",
   "execution_count": null,
   "id": "b1b43b73",
   "metadata": {},
   "outputs": [],
   "source": []
  }
 ],
 "metadata": {
  "kernelspec": {
   "display_name": "Python 3 (ipykernel)",
   "language": "python",
   "name": "python3"
  },
  "language_info": {
   "codemirror_mode": {
    "name": "ipython",
    "version": 3
   },
   "file_extension": ".py",
   "mimetype": "text/x-python",
   "name": "python",
   "nbconvert_exporter": "python",
   "pygments_lexer": "ipython3",
   "version": "3.9.12"
  }
 },
 "nbformat": 4,
 "nbformat_minor": 5
}
